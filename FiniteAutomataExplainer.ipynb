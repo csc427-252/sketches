{
 "cells": [
  {
   "cell_type": "markdown",
   "id": "f986c7ce",
   "metadata": {},
   "source": [
    "---\n",
    "\n",
    "### Finite Automata Explainer\n",
    "\n",
    "<pre>\n",
    "Burton Rosenberg\n",
    "19 January 2025\n",
    "University of Miami\n",
    "</pre>\n",
    "\n",
    "---\n",
    "\n",
    "These are some small code sketches to explain the idea of a Finite Automata.\n",
    "\n",
    "A Finite Automata is a machine that can the membership problem for a _language_, that is, the subset of the set of all words over an alphabet,\n",
    "\n",
    "$$\n",
    "S \\subseteq \\Sigma^*\n",
    "$$\n",
    "\n",
    "Let us suppose a two letter alphabet $\\Sigma = \\{\\,a,b\\,\\}$, and the language $S$ to be all strings that contain at least one $a$. \n",
    "\n",
    "\n",
    "### Step 1: Write a program\n",
    "\n",
    "__Exercise 1:__ Write a python program that returns `True` when the given string `s` is in `S`; and returns `False` otherwise.\n",
    "\n"
   ]
  },
  {
   "cell_type": "code",
   "execution_count": 1,
   "id": "42bdd324",
   "metadata": {},
   "outputs": [
    {
     "name": "stdout",
     "output_type": "stream",
     "text": [
      "M(|a|) = True\n",
      "M(|bab|) = True\n",
      "M(|babab|) = True\n",
      "M(||) = False\n",
      "M(|b|) = False\n",
      "M(|bbb|) = False\n"
     ]
    }
   ],
   "source": [
    "# exercise 1\n",
    "\n",
    "def member_at_least_one(s):\n",
    "    saw_an_a = 'no'\n",
    "    for letter in s:\n",
    "        if letter=='a':\n",
    "            saw_an_a = 'yes'\n",
    "    return saw_an_a=='yes'\n",
    "\n",
    "examples = ['a', 'bab', 'babab','', 'b', 'bbb']\n",
    "\n",
    "for s in examples:\n",
    "    print(f'M(|{s}|) = {member_at_least_one(s)}')"
   ]
  },
  {
   "cell_type": "markdown",
   "id": "d0635b62",
   "metadata": {},
   "source": [
    "### Step 2: The essence of the idea\n",
    "\n",
    "There maybe otherways to write this code, but I wanted a plausible code that illustrates a possible and general solution to this and similar word recognition problems.\n",
    "\n",
    "1. The code initializes some variables, \n",
    "1. The code examines letters in the word one by one,\n",
    "1. The code updates the variables on examining each letter,\n",
    "1. When all letters have been examined, the code returns true or false based on the final values of the variables.\n",
    "\n",
    "Let us generalize the above code. \n",
    "\n",
    "1. Have a `state` variable take on several values.\n",
    "1. Let `state` be initialzed to the state `q0`.\n",
    "1. A `transitions` map will update `state` based on both its current value and the letter read from the word.\n",
    "1. After all letters have in turn updated `state`, the progra returns `True` if the final value is in the set `accept`.\n",
    "\n",
    "The `transitions` map is the most involved item on this list, and is the heart of what the program will compute. It needs to record the direction,\n",
    "\n",
    "- If $b$ is seen, stay in the current state.\n",
    "- If $a$ is seen, transtion to the `q1` state.\n",
    "\n",
    "__Exercise 2:__ Rewrite the above python program to accept $S$, using the method just described.\n"
   ]
  },
  {
   "cell_type": "code",
   "execution_count": 2,
   "id": "56573aa9",
   "metadata": {},
   "outputs": [
    {
     "name": "stdout",
     "output_type": "stream",
     "text": [
      "M(|a|) = True\n",
      "M(|bab|) = True\n",
      "M(|babab|) = True\n",
      "M(||) = False\n",
      "M(|b|) = False\n",
      "M(|bbb|) = False\n"
     ]
    }
   ],
   "source": [
    "# exercise 2\n",
    "\n",
    "def member_at_least_one_FA(s):\n",
    "    state = 'q0'\n",
    "    accept = {'q1'}  # the set() constructor works differently\n",
    "    transitions = {\n",
    "        ('q0','b'): 'q0',\n",
    "        ('q1','b'): 'q1',\n",
    "        ('q0','a'): 'q1',\n",
    "        ('q1','a'): 'q1',\n",
    "    }\n",
    "    for letter in s:\n",
    "        state = transitions[(state,letter)]\n",
    "    return state in accept\n",
    "\n",
    "examples = ['a', 'bab', 'babab','', 'b', 'bbb']\n",
    "\n",
    "for s in examples:\n",
    "    print(f'M(|{s}|) = {member_at_least_one_FA(s)}')"
   ]
  },
  {
   "cell_type": "markdown",
   "id": "35acb2da",
   "metadata": {},
   "source": [
    "\n",
    "Why would on go through all the trouble to rewrite this code this way? Because now just by changing the _data_ (the transitions function, the start state, the accept states) the function is changed. Allowing us to study the _machine_, considering its action under all possible programmings.\n",
    "\n",
    "__Exercise 3:__ Modify just that data in the previous program to now accept the language of all strings with 2 or more $a$'s.\n"
   ]
  },
  {
   "cell_type": "code",
   "execution_count": 3,
   "id": "21adb0fa",
   "metadata": {},
   "outputs": [
    {
     "name": "stdout",
     "output_type": "stream",
     "text": [
      "M(|a|) = False\n",
      "M(|bab|) = False\n",
      "M(|babab|) = True\n",
      "M(||) = False\n",
      "M(|b|) = False\n",
      "M(|bbb|) = False\n"
     ]
    }
   ],
   "source": [
    "# exercise 3\n",
    "\n",
    "def member_at_least_two_FA(s):\n",
    "    state = 'q0'\n",
    "    accept = {'q2'}\n",
    "    transitions = {\n",
    "        ('q0','b'): 'q0',\n",
    "        ('q1','b'): 'q1',\n",
    "        ('q2','b'): 'q2',\n",
    "        ('q0','a'): 'q1',\n",
    "        ('q1','a'): 'q2',\n",
    "        ('q2','a'): 'q2',\n",
    "    }\n",
    "    for letter in s:\n",
    "        state = transitions[(state,letter)]\n",
    "    return state in accept\n",
    "\n",
    "examples = ['a', 'bab', 'babab','', 'b', 'bbb']\n",
    "\n",
    "for s in examples:\n",
    "    print(f'M(|{s}|) = {member_at_least_two_FA(s)}')"
   ]
  },
  {
   "cell_type": "markdown",
   "id": "e899ec38",
   "metadata": {},
   "source": [
    "### Step 3: A Finite Automata Object\n",
    "\n",
    "The last transformation I want to do, is to make the division of data and programming more defined. We use Object Oriented Programming, as OOP is about centering our programming on the data, not the process.\n",
    "\n",
    "The data is collected into a map, with fields `start`, `transitions`, `accept`, as before, as now also includes `alphabet` and `states`, so that the acceptable space of values is defined.\n",
    "\n",
    "The length of this code is due to error checking and `verbose` handling. It is really as simple as the previous code.\n"
   ]
  },
  {
   "cell_type": "code",
   "execution_count": 4,
   "id": "98882ae3",
   "metadata": {},
   "outputs": [],
   "source": [
    "#\n",
    "# definition of class SimpleFiniteAutomata\n",
    "# for csc427 semester 232 (jan 2023-may 2023)\n",
    "# last-update:\n",
    "#      22 jan 2023 -bjr: created\n",
    "#      23 jan -bjr: added assertion handling\n",
    "#\n",
    "\n",
    "\n",
    "class SimpleFiniteAutomata:\n",
    "    \n",
    "    def __init__(self,fa_description,verbose=False):\n",
    "        self.fa = fa_description\n",
    "        self.state = self.fa['start']\n",
    "        self.verbose = verbose\n",
    "        \n",
    "    def one_step(self,symbol):\n",
    "        assert symbol in self.fa['alphabet'] , f\"Symbol |{symbol}| not in the alphabet.\"\n",
    "        assert (self.state,symbol) in self.fa['transitions'] , f\"Transition |{(self.state,symbol)}| undefined.\"\n",
    "        return self.fa['transitions'][(self.state,symbol)]\n",
    "        \n",
    "    def compute(self,string):\n",
    "        self.state = self.fa['start']\n",
    "        if self.verbose:\n",
    "            print(f'\\ninput: |{string}|')\n",
    "        for symbol in string:\n",
    "            s = self.one_step(symbol)\n",
    "            if self.verbose:\n",
    "                print(f'({self.state},{symbol}) -> {s}')\n",
    "            self.state = s\n",
    "        if self.verbose:\n",
    "            s = ('reject','accept')[self.state in self.fa['accept']]\n",
    "            print(s)\n",
    "        return self.state in self.fa['accept']\n",
    "\n",
    "    \n",
    "#end class SimpleFiniteAutomata\n",
    "\n"
   ]
  },
  {
   "cell_type": "markdown",
   "id": "c65954fb",
   "metadata": {},
   "source": [
    "__Exercise 4:__ Write the machine descriptions for the two machines, at least one $a$ and at least two $a$'s and test.\n"
   ]
  },
  {
   "cell_type": "code",
   "execution_count": 5,
   "id": "ed235b9f",
   "metadata": {},
   "outputs": [
    {
     "name": "stdout",
     "output_type": "stream",
     "text": [
      "\n",
      "At least one\n",
      "------------\n",
      "M(|a|) = True\n",
      "M(|bab|) = True\n",
      "M(|babab|) = True\n",
      "M(||) = False\n",
      "M(|b|) = False\n",
      "M(|bbb|) = False\n",
      "\n",
      "At least two\n",
      "------------\n",
      "M(|a|) = False\n",
      "M(|bab|) = False\n",
      "M(|babab|) = True\n",
      "M(||) = False\n",
      "M(|b|) = False\n",
      "M(|bbb|) = False\n"
     ]
    }
   ],
   "source": [
    "\n",
    "at_least_one = {\n",
    "    'alphabet': {'a','b'},\n",
    "    'states': {'q0','q1'},\n",
    "    'start':'q0',\n",
    "    'accept':{'q1'},\n",
    "    'transitions':{\n",
    "        ('q0','b'): 'q0',\n",
    "        ('q1','b'): 'q1',\n",
    "        ('q0','a'): 'q1',\n",
    "        ('q1','a'): 'q1',\n",
    "    } \n",
    "}\n",
    "\n",
    "at_least_two = {\n",
    "    'alphabet': {'a','b'},\n",
    "    'states': {'q0','q1','q2'},\n",
    "    'start':'q0',\n",
    "    'accept':{'q2'},\n",
    "    'transitions':{\n",
    "        ('q0','b'): 'q0',\n",
    "        ('q1','b'): 'q1',\n",
    "        ('q2','b'): 'q2',\n",
    "        ('q0','a'): 'q1',\n",
    "        ('q1','a'): 'q2',\n",
    "        ('q2','a'): 'q2',\n",
    "    }   \n",
    "}\n",
    "\n",
    "sfa = SimpleFiniteAutomata(at_least_one)\n",
    "print(f'\\nAt least one\\n------------')\n",
    "for s in examples:\n",
    "    print(f'M(|{s}|) = {sfa.compute(s)}')\n",
    "\n",
    "print(f'\\nAt least two\\n------------')\n",
    "sfa = SimpleFiniteAutomata(at_least_two)\n",
    "for s in examples:\n",
    "    print(f'M(|{s}|) = {sfa.compute(s)}')"
   ]
  },
  {
   "cell_type": "code",
   "execution_count": 6,
   "id": "a500ef81",
   "metadata": {},
   "outputs": [],
   "source": [
    "# end"
   ]
  },
  {
   "cell_type": "code",
   "execution_count": null,
   "id": "b78b6560",
   "metadata": {},
   "outputs": [],
   "source": []
  }
 ],
 "metadata": {
  "kernelspec": {
   "display_name": "Python 3 (ipykernel)",
   "language": "python",
   "name": "python3"
  },
  "language_info": {
   "codemirror_mode": {
    "name": "ipython",
    "version": 3
   },
   "file_extension": ".py",
   "mimetype": "text/x-python",
   "name": "python",
   "nbconvert_exporter": "python",
   "pygments_lexer": "ipython3",
   "version": "3.9.7"
  }
 },
 "nbformat": 4,
 "nbformat_minor": 5
}
